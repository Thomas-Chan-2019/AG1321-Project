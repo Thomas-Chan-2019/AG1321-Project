{
 "cells": [
  {
   "cell_type": "markdown",
   "metadata": {},
   "source": [
    "# Check the implementation from:\n",
    "https://geemap.org/notebooks/31_unsupervised_classification/ "
   ]
  },
  {
   "cell_type": "code",
   "execution_count": 1,
   "metadata": {},
   "outputs": [
    {
     "data": {
      "text/plain": [
       "10"
      ]
     },
     "execution_count": 1,
     "metadata": {},
     "output_type": "execute_result"
    }
   ],
   "source": [
    "import gc\n",
    "gc.collect()"
   ]
  },
  {
   "cell_type": "code",
   "execution_count": 2,
   "metadata": {},
   "outputs": [],
   "source": [
    "import geemap\n",
    "import ee"
   ]
  },
  {
   "cell_type": "code",
   "execution_count": 3,
   "metadata": {},
   "outputs": [],
   "source": [
    "Map = geemap.Map()\n",
    "Map.add_basemap(\"SATELLITE\")\n",
    "# Map"
   ]
  },
  {
   "cell_type": "markdown",
   "metadata": {},
   "source": [
    "## Change to Sentinel 2 TOA and check cloud covers; change ROI and clustering ROI for better accuracy!"
   ]
  },
  {
   "cell_type": "code",
   "execution_count": 4,
   "metadata": {},
   "outputs": [],
   "source": [
    "# point = ee.Geometry.Point([-122.4439, 37.7538])\n",
    "# point = ee.Geometry.Point([-87.7719, 41.8799]) # Michigan\n",
    "# point = ee.Geometry.Point([18.08, 59.32]) # Stockholm\n",
    "# region = ee.Geometry.BBox(17.82, 59.22, 18.34, 59.42) # Stockholm\n",
    "region = ee.Geometry.BBox(17.70, 59.20, 18.70, 59.60) # Stockholm\n",
    "\n",
    "image = (\n",
    "    ee.ImageCollection('COPERNICUS/S2_SR_HARMONIZED')\n",
    "    .filterBounds(region)\n",
    "    .filterDate('2023-06-01', '2023-08-31')\n",
    "    .sort('CLOUDY_PIXEL_PERCENTAGE', False)\n",
    "    .mosaic()\n",
    "    .unitScale(0, 10000)\n",
    "    .clip(region) # Don't clip as we want to analyse the whole image\n",
    "    # .select('B[1-7]')\n",
    ")\n",
    "\n",
    "# True Color Display:\n",
    "vis_params = {'min': 0, 'max': 0.3, 'bands': ['B4', 'B3', 'B2']}\n",
    "\n",
    "Map.centerObject(region, 8)\n",
    "Map.addLayer(image, vis_params, \"Sentinel-2\")"
   ]
  },
  {
   "cell_type": "code",
   "execution_count": 5,
   "metadata": {},
   "outputs": [
    {
     "data": {
      "text/plain": [
       "{'NOMINAL_SCALE': 111319.49079327357,\n",
       " 'system:band_names': ['B1',\n",
       "  'B2',\n",
       "  'B3',\n",
       "  'B4',\n",
       "  'B5',\n",
       "  'B6',\n",
       "  'B7',\n",
       "  'B8',\n",
       "  'B8A',\n",
       "  'B9',\n",
       "  'B11',\n",
       "  'B12',\n",
       "  'AOT',\n",
       "  'WVP',\n",
       "  'SCL',\n",
       "  'TCI_R',\n",
       "  'TCI_G',\n",
       "  'TCI_B',\n",
       "  'MSK_CLDPRB',\n",
       "  'MSK_SNWPRB',\n",
       "  'QA10',\n",
       "  'QA20',\n",
       "  'QA60']}"
      ]
     },
     "execution_count": 5,
     "metadata": {},
     "output_type": "execute_result"
    }
   ],
   "source": [
    "props = geemap.image_props(image)\n",
    "props.getInfo()\n",
    "# props.get('IMAGE_DATE').getInfo() # For LandSat-8; Sentinel-2 does not have these image properties\n",
    "# props.get('CLOUD_COVER').getInfo() # For LandSat-8; Sentinel-2 does not have these image properties"
   ]
  },
  {
   "cell_type": "markdown",
   "metadata": {},
   "source": [
    "# Construct Training Data Set:"
   ]
  },
  {
   "cell_type": "code",
   "execution_count": 6,
   "metadata": {},
   "outputs": [],
   "source": [
    "ndvi = image.normalizedDifference(['B8', 'B4']).rename('ndvi')\n",
    "ndwi = image.normalizedDifference(['B3', 'B8']).rename('ndwi')\n",
    "input = image.addBands([ndvi, ndwi])\n",
    "\n",
    "# Define the input features for the classifier\n",
    "# inputFeatures = ['B2', 'B3', 'B4', 'B8', 'B8A', 'B11', 'ndvi', 'ndwi']\n",
    "inputFeatures = ['B2', 'B3', 'B4', 'B8', 'B11', 'ndvi', 'ndwi']"
   ]
  },
  {
   "cell_type": "code",
   "execution_count": 7,
   "metadata": {},
   "outputs": [],
   "source": [
    "# Make the training dataset.\n",
    "training = input.select(inputFeatures).sample(\n",
    "    **{\n",
    "        'region': region,\n",
    "        'scale': 30,\n",
    "        'numPixels': 5000, # Default, given\n",
    "        # 'numPixels': 10000,\n",
    "        # 'seed': 0,\n",
    "        # 'geometries': True,  # Set this to False to ignore geometries\n",
    "    }\n",
    ")\n",
    "\n",
    "# Plot the training sample data (not really necessary)\n",
    "# Map.addLayer(training, {}, 'training', False)\n",
    "# Map"
   ]
  },
  {
   "cell_type": "code",
   "execution_count": 8,
   "metadata": {},
   "outputs": [],
   "source": [
    "# Instantiate the clusterer and train it.\n",
    "n_clusters = 15\n",
    "clusterer = ee.Clusterer.wekaKMeans(n_clusters).train(training)"
   ]
  },
  {
   "cell_type": "code",
   "execution_count": 9,
   "metadata": {},
   "outputs": [],
   "source": [
    "# Cluster the input using the trained clusterer.\n",
    "result = input.select(inputFeatures).cluster(clusterer)\n",
    "# geemap.image_props(result)\n",
    "\n",
    "# # Display the clusters with random colors.\n",
    "# Map.addLayer(result.randomVisualizer(), {}, 'clusters')\n",
    "# Map.addLayer(result, {}, 'clusters')\n",
    "# Map"
   ]
  },
  {
   "cell_type": "code",
   "execution_count": 10,
   "metadata": {},
   "outputs": [
    {
     "data": {
      "application/vnd.jupyter.widget-view+json": {
       "model_id": "99f9c7738d9d4ac8bf38f98b5907124f",
       "version_major": 2,
       "version_minor": 0
      },
      "text/plain": [
       "Map(center=[59.399925146053874, 18.19999999999986], controls=(WidgetControl(options=['position', 'transparent_…"
      ]
     },
     "execution_count": 10,
     "metadata": {},
     "output_type": "execute_result"
    }
   ],
   "source": [
    "# Define 15 colors to distinguish the clusters and look at what they are!\n",
    "# legend_keys = ['One', 'Two', 'Three', 'Four', 'ect']\n",
    "# legend_colors = ['#8DD3C7', '#FFFFB3', '#BEBADA', '#FB8072', '#80B1D3']\n",
    "legend_keys = ['0','1','2','3','4','5','6','7','8','9','10','11','12','13','14']\n",
    "legend_colors = ['#e6194B','#3cb44b','#ffe119','#4363d8','#f58231','#911eb4','#42d4f4','#f032e6','#bfef45','#fabed4','#469990','#9A6324','#800000','#808000','#000075']\n",
    "\n",
    "Map.addLayer(\n",
    "    result, {'min': 0, 'max': 14, 'palette': legend_colors}, 'Unclassified clusters'\n",
    ")\n",
    "Map.add_legend(\n",
    "    keys=legend_keys, colors=legend_colors, position='bottomright'\n",
    ")\n",
    "Map"
   ]
  },
  {
   "cell_type": "markdown",
   "metadata": {},
   "source": [
    "Water: 1 (high shallow), 2 (deep), 8 (mid shallow), 13 (shallow), 14 (?, close to outer seas)\n",
    "Vegetation: 0 (larger), 3, 4 (slight veg) , 5 (tall), 11 (more disperse veg)\n",
    "Urban: 7 (darker/road), 9 (metallic rooftop or cloud)\n",
    "Bare Field: 6 (a bit more veg), 10 (barer), 12 (even more barer)"
   ]
  },
  {
   "cell_type": "code",
   "execution_count": 11,
   "metadata": {},
   "outputs": [],
   "source": [
    "# Define \n",
    "legend_keys_classified = ['Water', 'Vegetation', 'Urban', 'Bare Field']\n",
    "legend_colors_classified = ['#4363d8', '#3cb44b', '#a9a9a9', '#ffe119']\n",
    "\n",
    "# Remap the spectral classes from clusters:\n",
    "fromClusters = [0, 1, 2, 3, 4, 5, 6, 7, 8, 9, 10, 11, 12, 13, 14]\n",
    "toClasses = [1, 1, 0, 1, 1, 1, 3, 2, 1, 2, 3, 1, 3, 0, 0]\n",
    "\n",
    "# Reclassify the map\n",
    "result_2 = result.remap(fromClusters, toClasses)\n",
    "\n",
    "Map.addLayer(\n",
    "    result_2, {'min': 0, 'max': 3, 'palette': legend_colors_classified}, 'Labelled clusters'\n",
    ")\n",
    "Map.add_legend(\n",
    "    keys=legend_keys_classified, colors=legend_colors_classified, position='bottomleft'\n",
    ")\n",
    "Map"
   ]
  },
  {
   "cell_type": "code",
   "execution_count": null,
   "metadata": {},
   "outputs": [],
   "source": [
    "print('Change layer opacity:')\n",
    "cluster_layer = Map.layers[-1]\n",
    "cluster_layer.interact(opacity=(0, 1, 0.1))"
   ]
  },
  {
   "cell_type": "markdown",
   "metadata": {},
   "source": [
    "# Image Export (optional)\n",
    "import os\n",
    "\n",
    "out_dir = os.path.join(os.path.expanduser('~'), 'Downloads')\n",
    "out_file = os.path.join(out_dir, 'cluster.tif')\n",
    "\n",
    "geemap.ee_export_image(result, filename=out_file, scale=90)\n",
    "geemap.ee_export_image_to_drive(\n",
    "    result, description='clusters', folder='export', scale=90\n",
    ")"
   ]
  },
  {
   "cell_type": "markdown",
   "metadata": {},
   "source": [
    "geemap.show_youtube('N7rK2aV1R4c')"
   ]
  },
  {
   "cell_type": "markdown",
   "metadata": {},
   "source": [
    "import geemap.foliumap as gf\n",
    "# import geemap as gf\n",
    "Map2 = gf.Map()\n",
    "Map2.centerObject(region, 8)\n",
    "Map2.add_basemap(\"SATELLITE\")\n",
    "\n",
    "tile_img = gf.ee_tile_layer(image, vis_params, 'Sentinel-2 True Colour')\n",
    "tile_cluster = gf.ee_tile_layer(result, {'min': 0, 'max': 14, 'palette': legend_colors}, 'Sentinel-2 Clustered Unclassified')\n",
    "\n",
    "\n",
    "Map2.split_map(left_layer=tile_img, right_layer=tile_cluster)\n",
    "Map2.addLayerControl\n",
    "\n",
    "Map2.add_legend(\n",
    "    labels=legend_keys, colors=legend_colors, position='bottomright'\n",
    ")\n",
    "# Map2.add_legend(\n",
    "#     keys=legend_keys, colors=legend_colors, position='bottomright'\n",
    "# )\n",
    "\n",
    "Map2"
   ]
  }
 ],
 "metadata": {
  "kernelspec": {
   "display_name": "ag1321",
   "language": "python",
   "name": "python3"
  },
  "language_info": {
   "codemirror_mode": {
    "name": "ipython",
    "version": 3
   },
   "file_extension": ".py",
   "mimetype": "text/x-python",
   "name": "python",
   "nbconvert_exporter": "python",
   "pygments_lexer": "ipython3",
   "version": "3.10.12"
  },
  "orig_nbformat": 4
 },
 "nbformat": 4,
 "nbformat_minor": 2
}
